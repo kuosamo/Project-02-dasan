{
 "cells": [
  {
   "cell_type": "markdown",
   "metadata": {},
   "source": [
    "# 다산콜 센터 문의내역 자동화 분류모델\n",
    "* single project in DSS-3 (김경수)\n",
    "![Image](./Resource/dasan_Image.png)\n",
    "___"
   ]
  },
  {
   "cell_type": "markdown",
   "metadata": {},
   "source": [
    "## Why?\n",
    "* 많은 사이트에는 FAQ라는 게시판이 있는데 자주묻는질문들은 항상 같은 답변을 하기 때문에 ‘이것을 자동화할수 없을까’ 라는 의문에서 대량의 데이터를 생각하게 되었고, 다산콜센터 문의내역을 가지고 프로젝트를 진행하게 되었다."
   ]
  },
  {
   "cell_type": "markdown",
   "metadata": {},
   "source": [
    "## Goal\n",
    "* 다산콜센터의 질문들을 머신러닝 기반으로 학습하여 카테고리에 맞게 분류하고 답변을 하는 것을 목표로 한다.\n",
    "* 다산콜센터에 문의된 질문 **(input)** = > **f(x)** = > 질문의 분류 & 답변 **(output)**"
   ]
  },
  {
   "cell_type": "markdown",
   "metadata": {},
   "source": [
    "## How?\n",
    "* 데이터 수집\n",
    "    + 네이버 지식인에 다산콜센터에서 답변한 게시물을 크롤링 15,995답변 (Samples)\n",
    "    + 질문에 대한 7가지 카데고리 (y)\n",
    "    + 2012 ~ 2016년 까지의 질문 (X)\n",
    "    ___\n",
    "* 방법론\n",
    "    * Classification : Multinomial NB, LogisticRegression, SVM \n",
    "       + 데이터의 분포를 확인하기 위해서 명사추출과 품사태깅을 적용 (konlpy) \n",
    "       + Text Preprocessing 을 위해서 CountVectorizer(), TfidfVectorizer() 수행\n",
    "       + 여러가지의 모델을 통해서 튜닝을 하면서 accuracy가 높은 모델을 선택 ( TfidfVectorizer, SVM ) \n",
    "      ___\n",
    "    * features = 2012~2106 question 중에서 target class 만을 추출\n",
    "         + 2012 : ***899개***\n",
    "         + 2013 : ***1508개***\n",
    "         + 2014 : ***2437개***\n",
    "         + 2015 : ***1593개***\n",
    "         + 2016 : ***1330개***\n",
    "         + Total : ***= 7767개***\n",
    "         \n",
    "    * target =  directorys \n",
    "         + ***가족관계 증명민원*** \n",
    "         + ***교통민원***\n",
    "         + ***부동산, 건축 민원***\n",
    "         + ***서울특별시***\n",
    "         + ***여권, 비자민원***\n",
    "         + ***의료보건제도***\n",
    "         + ***주민등록증 발급***\n",
    "      ___   \n",
    "    \n",
    "* 분석 방법\n",
    "    * Multinomial NB, LogisticRegression, SVM "
   ]
  },
  {
   "cell_type": "markdown",
   "metadata": {},
   "source": [
    "## < Workflow >\n",
    "### Data => Data distribution  => Data preprocessing  => Modeling  => Optimization  => Accuracy / Word2Vec"
   ]
  },
  {
   "cell_type": "markdown",
   "metadata": {},
   "source": [
    "### 1. Data"
   ]
  },
  {
   "cell_type": "code",
   "execution_count": 36,
   "metadata": {
    "collapsed": false
   },
   "outputs": [],
   "source": [
    "#-*- coding: utf-8 -*-\n",
    "\n",
    "from sklearn.feature_extraction.text import CountVectorizer\n",
    "from sklearn.feature_extraction.text import TfidfVectorizer\n",
    "from sklearn.naive_bayes import MultinomialNB\n",
    "from sklearn.linear_model import LogisticRegression\n",
    "from sklearn.svm import SVC\n",
    "from sklearn.pipeline import Pipeline\n",
    "from sklearn.metrics import classification_report\n",
    "from sklearn.metrics import accuracy_score\n",
    "from sklearn.cross_validation import cross_val_score\n",
    "from konlpy.utils import pprint\n",
    "from konlpy.tag import Twitter\n",
    "import nltk\n",
    "import matplotlib as mpl\n",
    "import matplotlib.pylab as plt\n",
    "from matplotlib import font_manager, rc\n",
    "from sklearn.preprocessing import LabelEncoder\n",
    "from konlpy.utils import pprint\n",
    "\n",
    "call = pd.read_csv('./Resource/data.csv') # 데이터 읽기"
   ]
  },
  {
   "cell_type": "code",
   "execution_count": 37,
   "metadata": {
    "collapsed": false
   },
   "outputs": [
    {
     "data": {
      "text/html": [
       "<div>\n",
       "<table border=\"1\" class=\"dataframe\">\n",
       "  <thead>\n",
       "    <tr style=\"text-align: right;\">\n",
       "      <th></th>\n",
       "      <th>질문</th>\n",
       "      <th>디렉토리</th>\n",
       "    </tr>\n",
       "  </thead>\n",
       "  <tbody>\n",
       "    <tr>\n",
       "      <th>6730</th>\n",
       "      <td>주민등록등본뒷자리</td>\n",
       "      <td>주민등록증 발급</td>\n",
       "    </tr>\n",
       "    <tr>\n",
       "      <th>6731</th>\n",
       "      <td>주민등록등본 타지역에서 발급되나요??</td>\n",
       "      <td>주민등록증 발급</td>\n",
       "    </tr>\n",
       "    <tr>\n",
       "      <th>6732</th>\n",
       "      <td>98년 12월13일생인데 이번년도 12월31일에...</td>\n",
       "      <td>주민등록증 발급</td>\n",
       "    </tr>\n",
       "    <tr>\n",
       "      <th>6733</th>\n",
       "      <td>민증을 1월31일까지 만들라고 통지서에 적...</td>\n",
       "      <td>주민등록증 발급</td>\n",
       "    </tr>\n",
       "    <tr>\n",
       "      <th>6734</th>\n",
       "      <td>주민등록증 재발급</td>\n",
       "      <td>주민등록증 발급</td>\n",
       "    </tr>\n",
       "  </tbody>\n",
       "</table>\n",
       "</div>"
      ],
      "text/plain": [
       "                                 질문      디렉토리\n",
       "6730                      주민등록등본뒷자리  주민등록증 발급\n",
       "6731           주민등록등본 타지역에서 발급되나요??  주민등록증 발급\n",
       "6732  98년 12월13일생인데 이번년도 12월31일에...  주민등록증 발급\n",
       "6733     민증을 1월31일까지 만들라고 통지서에 적...  주민등록증 발급\n",
       "6734                      주민등록증 재발급  주민등록증 발급"
      ]
     },
     "execution_count": 37,
     "metadata": {},
     "output_type": "execute_result"
    }
   ],
   "source": [
    "call.tail() # 데이터 확인"
   ]
  },
  {
   "cell_type": "code",
   "execution_count": 38,
   "metadata": {
    "collapsed": true
   },
   "outputs": [],
   "source": [
    "y = call['디렉토리'] # target\n",
    "X = call['질문']    # feature"
   ]
  },
  {
   "cell_type": "code",
   "execution_count": 39,
   "metadata": {
    "collapsed": false
   },
   "outputs": [
    {
     "name": "stdout",
     "output_type": "stream",
     "text": [
      "6730                        주민등록등본뒷자리\n",
      "6731             주민등록등본 타지역에서 발급되나요??\n",
      "6732    98년 12월13일생인데 이번년도 12월31일에...\n",
      "6733       민증을 1월31일까지 만들라고 통지서에 적...\n",
      "6734                        주민등록증 재발급\n",
      "Name: 질문, dtype: object\n"
     ]
    }
   ],
   "source": [
    "print X.tail()"
   ]
  },
  {
   "cell_type": "code",
   "execution_count": 40,
   "metadata": {
    "collapsed": false
   },
   "outputs": [
    {
     "name": "stdout",
     "output_type": "stream",
     "text": [
      "6730    주민등록증 발급\n",
      "6731    주민등록증 발급\n",
      "6732    주민등록증 발급\n",
      "6733    주민등록증 발급\n",
      "6734    주민등록증 발급\n",
      "Name: 디렉토리, dtype: object\n"
     ]
    }
   ],
   "source": [
    "print y.tail()"
   ]
  },
  {
   "cell_type": "markdown",
   "metadata": {},
   "source": [
    "### 2. Data distribution"
   ]
  },
  {
   "cell_type": "code",
   "execution_count": 41,
   "metadata": {
    "collapsed": true
   },
   "outputs": [],
   "source": [
    "twitter = Twitter()\n",
    "\n",
    "Nouns = [] # 명사추출\n",
    "Pos = []   # 품사태깅\n",
    "for x in X:\n",
    "    z = x.decode(\"utf-8\")\n",
    "    Nouns.append(twitter.nouns(z))\n",
    "    Pos.append(twitter.pos(z))"
   ]
  },
  {
   "cell_type": "code",
   "execution_count": 42,
   "metadata": {
    "collapsed": false
   },
   "outputs": [
    {
     "name": "stdout",
     "output_type": "stream",
     "text": [
      "[[가족, 관계, 증명서],\n",
      " [차,\n",
      "  상위,\n",
      "  계층,\n",
      "  증명,\n",
      "  궁금],\n",
      " [주민등록, 등본, 질문]]\n"
     ]
    }
   ],
   "source": [
    "pprint (Nouns[0:3])"
   ]
  },
  {
   "cell_type": "code",
   "execution_count": 43,
   "metadata": {
    "collapsed": false
   },
   "outputs": [
    {
     "name": "stdout",
     "output_type": "stream",
     "text": [
      "[[(가족, Noun),\n",
      "  (관계, Noun),\n",
      "  (증명서, Noun)],\n",
      " [(차, Noun),\n",
      "  (상위, Noun),\n",
      "  (계층, Noun),\n",
      "  (증명, Noun),\n",
      "  (을, Josa),\n",
      "  (어떻, Adjective),\n",
      "  (게, Eomi),\n",
      "  (하는, Verb),\n",
      "  (지, Eomi),\n",
      "  (궁금, Noun),\n",
      "  (..., Punctuation)],\n",
      " [(주민등록, Noun),\n",
      "  (등본, Noun),\n",
      "  (질문, Noun),\n",
      "  ((, Punctuation),\n",
      "  (급함, Adjective),\n",
      "  (), Punctuation)]]\n"
     ]
    }
   ],
   "source": [
    "pprint (Pos[0:3]) "
   ]
  },
  {
   "cell_type": "code",
   "execution_count": 44,
   "metadata": {
    "collapsed": false
   },
   "outputs": [],
   "source": [
    "# 명사 corpus\n",
    "corpus = []\n",
    "for i in range(len(Nouns)):\n",
    "    corpus += Nouns[i]"
   ]
  },
  {
   "cell_type": "code",
   "execution_count": 45,
   "metadata": {
    "collapsed": false
   },
   "outputs": [
    {
     "data": {
      "text/plain": [
       "24972"
      ]
     },
     "execution_count": 45,
     "metadata": {},
     "output_type": "execute_result"
    }
   ],
   "source": [
    "# corpus 길이\n",
    "len(corpus)"
   ]
  },
  {
   "cell_type": "code",
   "execution_count": 46,
   "metadata": {
    "collapsed": false
   },
   "outputs": [],
   "source": [
    "# stop_word\n",
    "def get_stop_words():\n",
    "    result = set()\n",
    "    for line in open('./Resource/stopwords-kr.txt','r').readlines():\n",
    "        result.add(line.strip())\n",
    "    return result\n",
    "\n",
    "# tokenize\n",
    "def tokenize_pos(doc):\n",
    "    return ['/'.join(t) for t in pos_tagger.pos(doc, norm=True, stem=True)]\n",
    "\n",
    "pos_tagger = Twitter()"
   ]
  },
  {
   "cell_type": "code",
   "execution_count": 47,
   "metadata": {
    "collapsed": false
   },
   "outputs": [
    {
     "name": "stdout",
     "output_type": "stream",
     "text": [
      "2053\n",
      "[(월일, 1323),\n",
      " (깜박, 281),\n",
      " (개념, 56),\n",
      " (조종사, 1593),\n",
      " (종로, 1602),\n",
      " (아시, 1106),\n",
      " (대학교, 399),\n",
      " (설치, 927),\n",
      " (방서, 686),\n",
      " (증장, 1673)]\n"
     ]
    }
   ],
   "source": [
    "# CountVectorizer\n",
    "vect = CountVectorizer(stop_words=get_stop_words())\n",
    "vect.fit(corpus)\n",
    "\n",
    "print len(vect.vocabulary_)\n",
    "# pprint (vect.vocabulary_)\n",
    "\n",
    "a = vect.vocabulary_.items()\n",
    "pprint (a[:10])  # vect의 구조"
   ]
  },
  {
   "cell_type": "code",
   "execution_count": 48,
   "metadata": {
    "collapsed": false
   },
   "outputs": [
    {
     "data": {
      "image/png": "[encoded data removed]",
      "text/plain": [
       "<matplotlib.figure.Figure at 0x121cfa5d0>"
      ]
     },
     "metadata": {},
     "output_type": "display_data"
    }
   ],
   "source": [
    "# corpus data 분포\n",
    "\n",
    "# Mac OS X : /Library/Fonts/AppleGothic.ttf (Mac OS 기준)\n",
    "# Linux : /usr/share/fonts/nanumfont/NanumGothic.ttf\n",
    "# Window : /windows/fonts/gulim.ttc\n",
    "\n",
    "text = nltk.Text(corpus)\n",
    "font_fname = '/Library/Fonts/AppleGothic.ttf'     \n",
    "font_name = font_manager.FontProperties(fname=font_fname).get_name()\n",
    "rc('font', family=font_name)\n",
    "plt.figure(figsize=(12,10))\n",
    "text.plot(50)\n",
    "plt.show()"
   ]
  },
  {
   "cell_type": "markdown",
   "metadata": {},
   "source": [
    "### 3. Data preprocessing"
   ]
  },
  {
   "cell_type": "code",
   "execution_count": 49,
   "metadata": {
    "collapsed": false
   },
   "outputs": [],
   "source": [
    "# LabelEncoder\n",
    "le = LabelEncoder()\n",
    "le.fit(y)\n",
    "z = le.classes_"
   ]
  },
  {
   "cell_type": "code",
   "execution_count": 50,
   "metadata": {
    "collapsed": false
   },
   "outputs": [
    {
     "data": {
      "text/plain": [
       "array([0, 0, 0, ..., 6, 6, 6])"
      ]
     },
     "execution_count": 50,
     "metadata": {},
     "output_type": "execute_result"
    }
   ],
   "source": [
    "# 0:가족관계 증명민원\n",
    "# 1:교통민원\n",
    "# 2:부동산, 건축민원\n",
    "# 3:서울특별시\n",
    "# 4:여권, 비자 민원\n",
    "# 5:의료보건제도\n",
    "# 6:주민등록증 발급\n",
    "\n",
    "y = le.transform(y)\n",
    "y"
   ]
  },
  {
   "cell_type": "code",
   "execution_count": 51,
   "metadata": {
    "collapsed": false
   },
   "outputs": [
    {
     "data": {
      "text/plain": [
       "(5387, 1347)"
      ]
     },
     "execution_count": 51,
     "metadata": {},
     "output_type": "execute_result"
    }
   ],
   "source": [
    "# train_test_split (9 : 1)\n",
    "from sklearn.cross_validation import train_test_split\n",
    "\n",
    "X_train, X_test, y_train, y_test = train_test_split(X, y, train_size=5387, test_size=1347)\n",
    "len(X_train), len(X_test)"
   ]
  },
  {
   "cell_type": "code",
   "execution_count": 52,
   "metadata": {
    "collapsed": false
   },
   "outputs": [
    {
     "data": {
      "text/plain": [
       "1869         주민등록증 만들때 준비물\n",
       "983     가족관계증명서비용과 기본증명서비용\n",
       "3961        민증 신청 날짜 몇일날??\n",
       "933                가족관계증명서\n",
       "4115             민증 벌금이요..\n",
       "Name: 질문, dtype: object"
      ]
     },
     "execution_count": 52,
     "metadata": {},
     "output_type": "execute_result"
    }
   ],
   "source": [
    "X_train.head()"
   ]
  },
  {
   "cell_type": "code",
   "execution_count": 53,
   "metadata": {
    "collapsed": false
   },
   "outputs": [
    {
     "data": {
      "text/plain": [
       "array([6, 0, 6, ..., 0, 3, 6])"
      ]
     },
     "execution_count": 53,
     "metadata": {},
     "output_type": "execute_result"
    }
   ],
   "source": [
    "y_train"
   ]
  },
  {
   "cell_type": "markdown",
   "metadata": {},
   "source": [
    "### 4. Modeling"
   ]
  },
  {
   "cell_type": "markdown",
   "metadata": {},
   "source": [
    "#### CountVectorizer(), MultinomialNB()"
   ]
  },
  {
   "cell_type": "code",
   "execution_count": 54,
   "metadata": {
    "collapsed": false
   },
   "outputs": [
    {
     "data": {
      "text/plain": [
       "array([ 0.75097276,  0.74164811,  0.72935268])"
      ]
     },
     "execution_count": 54,
     "metadata": {},
     "output_type": "execute_result"
    }
   ],
   "source": [
    "# CountVectorizer, MultinomialNB \n",
    "clf_1 = Pipeline([('vect', CountVectorizer())])\n",
    "features = clf_1.fit_transform(X_train)\n",
    "\n",
    "#cross_val_score\n",
    "cross_val_score(MultinomialNB(),features, y_train)"
   ]
  },
  {
   "cell_type": "code",
   "execution_count": 55,
   "metadata": {
    "collapsed": false
   },
   "outputs": [
    {
     "data": {
      "text/plain": [
       "Pipeline(steps=[('vect', CountVectorizer(analyzer=u'word', binary=False, decode_error=u'strict',\n",
       "        dtype=<type 'numpy.int64'>, encoding=u'utf-8', input=u'content',\n",
       "        lowercase=True, max_df=1.0, max_features=None, min_df=1,\n",
       "        ngram_range=(1, 1), preprocessor=None, stop_words=None,\n",
       "        strip_accents=None, token_pattern=u'(?u)\\\\b\\\\w\\\\w+\\\\b',\n",
       "        tokenizer=None, vocabulary=None)), ('clf', MultinomialNB(alpha=1.0, class_prior=None, fit_prior=True))])"
      ]
     },
     "execution_count": 55,
     "metadata": {},
     "output_type": "execute_result"
    }
   ],
   "source": [
    "# make_pipeline\n",
    "clf_1 = Pipeline([('vect', CountVectorizer()),\n",
    "               ('clf', MultinomialNB())])\n",
    "\n",
    "clf_1.fit(X_train, y_train)"
   ]
  },
  {
   "cell_type": "code",
   "execution_count": 56,
   "metadata": {
    "collapsed": false
   },
   "outputs": [
    {
     "name": "stdout",
     "output_type": "stream",
     "text": [
      "[주류판매하는,\n",
      " 받은곳만,\n",
      " 여권분실시,\n",
      " 가족관계를,\n",
      " 개명신청,\n",
      " 전문연구요원,\n",
      " 언제나올까요,\n",
      " 주소를,\n",
      " 대학교,\n",
      " 주민등록초본발급]\n"
     ]
    }
   ],
   "source": [
    "# model의 vocabulary\n",
    "pprint (list(clf_1.named_steps['vect'].vocabulary_)[:10])"
   ]
  },
  {
   "cell_type": "code",
   "execution_count": 57,
   "metadata": {
    "collapsed": false,
    "scrolled": true
   },
   "outputs": [
    {
     "name": "stdout",
     "output_type": "stream",
     "text": [
      "             precision    recall  f1-score   support\n",
      "\n",
      "          0       0.86      0.59      0.70       235\n",
      "          1       0.50      0.18      0.27        22\n",
      "          2       0.92      0.63      0.75        54\n",
      "          3       0.98      0.42      0.59       130\n",
      "          4       0.90      0.71      0.80       183\n",
      "          5       0.89      0.85      0.87       299\n",
      "          6       0.59      0.91      0.71       424\n",
      "\n",
      "avg / total       0.80      0.74      0.74      1347\n",
      "\n"
     ]
    }
   ],
   "source": [
    "# classification_report\n",
    "print classification_report(y_test, clf_1.predict(X_test))"
   ]
  },
  {
   "cell_type": "code",
   "execution_count": 58,
   "metadata": {
    "collapsed": false
   },
   "outputs": [
    {
     "name": "stdout",
     "output_type": "stream",
     "text": [
      "0.743875278396\n"
     ]
    }
   ],
   "source": [
    "# Accuracy\n",
    "print accuracy_score(y_test, clf_1.predict(X_test))"
   ]
  },
  {
   "cell_type": "markdown",
   "metadata": {},
   "source": [
    "#### TfidfVectorizer, MultinomialNB()"
   ]
  },
  {
   "cell_type": "code",
   "execution_count": 59,
   "metadata": {
    "collapsed": false
   },
   "outputs": [
    {
     "data": {
      "text/plain": [
       "array([ 0.66536965,  0.6408686 ,  0.65345982])"
      ]
     },
     "execution_count": 59,
     "metadata": {},
     "output_type": "execute_result"
    }
   ],
   "source": [
    "# TfidfVectorizer, MultinomialNB()\n",
    "clf_2 = Pipeline([('vect',TfidfVectorizer())])\n",
    "features = clf_2.fit_transform(X_train)\n",
    "\n",
    "# cross_val_score\n",
    "cross_val_score(MultinomialNB(),features, y_train)"
   ]
  },
  {
   "cell_type": "code",
   "execution_count": 60,
   "metadata": {
    "collapsed": false
   },
   "outputs": [
    {
     "data": {
      "text/plain": [
       "Pipeline(steps=[('vect', TfidfVectorizer(analyzer=u'word', binary=False, decode_error=u'strict',\n",
       "        dtype=<type 'numpy.int64'>, encoding=u'utf-8', input=u'content',\n",
       "        lowercase=True, max_df=1.0, max_features=None, min_df=1,\n",
       "        ngram_range=(1, 1), norm=u'l2', preprocessor=None, smooth_idf=True...rue,\n",
       "        vocabulary=None)), ('clf', MultinomialNB(alpha=1.0, class_prior=None, fit_prior=True))])"
      ]
     },
     "execution_count": 60,
     "metadata": {},
     "output_type": "execute_result"
    }
   ],
   "source": [
    "# make_pipeline\n",
    "clf_2 = Pipeline([('vect',TfidfVectorizer()),\n",
    "                  ('clf',MultinomialNB())])\n",
    "\n",
    "clf_2.fit(X_train, y_train)"
   ]
  },
  {
   "cell_type": "code",
   "execution_count": 61,
   "metadata": {
    "collapsed": false
   },
   "outputs": [
    {
     "name": "stdout",
     "output_type": "stream",
     "text": [
      "[주류판매하는,\n",
      " 받은곳만,\n",
      " 여권분실시,\n",
      " 가족관계를,\n",
      " 개명신청,\n",
      " 전문연구요원,\n",
      " 언제나올까요,\n",
      " 주소를,\n",
      " 대학교,\n",
      " 주민등록초본발급]\n"
     ]
    }
   ],
   "source": [
    "pprint (list(clf_2.named_steps['vect'].vocabulary_)[:10])"
   ]
  },
  {
   "cell_type": "code",
   "execution_count": 62,
   "metadata": {
    "collapsed": false
   },
   "outputs": [
    {
     "name": "stdout",
     "output_type": "stream",
     "text": [
      "             precision    recall  f1-score   support\n",
      "\n",
      "          0       0.87      0.49      0.62       235\n",
      "          1       0.00      0.00      0.00        22\n",
      "          2       0.95      0.35      0.51        54\n",
      "          3       0.97      0.26      0.41       130\n",
      "          4       0.98      0.64      0.78       183\n",
      "          5       0.85      0.81      0.83       299\n",
      "          6       0.52      0.93      0.67       424\n",
      "\n",
      "avg / total       0.77      0.68      0.67      1347\n",
      "\n"
     ]
    },
    {
     "name": "stderr",
     "output_type": "stream",
     "text": [
      "/usr/local/lib/python2.7/site-packages/sklearn/metrics/classification.py:1074: UndefinedMetricWarning: Precision and F-score are ill-defined and being set to 0.0 in labels with no predicted samples.\n",
      "  'precision', 'predicted', average, warn_for)\n"
     ]
    }
   ],
   "source": [
    "# classification_report\n",
    "print classification_report(y_test, clf_2.predict(X_test))"
   ]
  },
  {
   "cell_type": "code",
   "execution_count": 63,
   "metadata": {
    "collapsed": false
   },
   "outputs": [
    {
     "name": "stdout",
     "output_type": "stream",
     "text": [
      "0.684484038604\n"
     ]
    }
   ],
   "source": [
    "# accuracy_score\n",
    "print accuracy_score(y_test, clf_2.predict(X_test))"
   ]
  },
  {
   "cell_type": "markdown",
   "metadata": {},
   "source": [
    "### 5. Optimization"
   ]
  },
  {
   "cell_type": "markdown",
   "metadata": {},
   "source": [
    "#### CountVectorizer(tokenizer, stop_words) / MultinomialNB(alpha=0.5) ,LogisticRegression(), SVC(kernel='linear')"
   ]
  },
  {
   "cell_type": "code",
   "execution_count": 64,
   "metadata": {
    "collapsed": false
   },
   "outputs": [
    {
     "data": {
      "text/plain": [
       "Pipeline(steps=[('vect', CountVectorizer(analyzer=u'word', binary=False, decode_error=u'strict',\n",
       "        dtype=<type 'numpy.int64'>, encoding=u'utf-8', input=u'content',\n",
       "        lowercase=True, max_df=1.0, max_features=None, min_df=1,\n",
       "        ngram_range=(1, 1), preprocessor=None,\n",
       "        stop_words=set(['\\x...,\n",
       "  max_iter=-1, probability=False, random_state=None, shrinking=True,\n",
       "  tol=0.001, verbose=False))])"
      ]
     },
     "execution_count": 64,
     "metadata": {},
     "output_type": "execute_result"
    }
   ],
   "source": [
    "# CountVectorizer(tokenizer, stop_words), MultinomialNB(alpha=0.5)\n",
    "clf_3 = Pipeline([\n",
    "            ('vect', CountVectorizer(tokenizer=tokenize_pos, stop_words=get_stop_words())), \n",
    "            ('clf', MultinomialNB(alpha=0.5))])\n",
    "clf_3.fit(X_train, y_train)\n",
    "\n",
    "# CountVectorizer(tokenizer, stop_words), LogisticRegression()\n",
    "clf_4 = Pipeline([('vect', CountVectorizer(tokenizer=tokenize_pos, stop_words=get_stop_words())),\n",
    "               ('clf', LogisticRegression())])\n",
    "clf_4.fit(X_train, y_train)\n",
    "\n",
    "# CountVectorizer(tokenizer, stop_words), SVC(kernel='linear')\n",
    "clf_5 = Pipeline([('vect', CountVectorizer(tokenizer=tokenize_pos, stop_words=get_stop_words())),\n",
    "               ('clf', SVC(kernel='linear'))])\n",
    "clf_5.fit(X_train, y_train)"
   ]
  },
  {
   "cell_type": "markdown",
   "metadata": {},
   "source": [
    "#### TfidfVectorizer(tokenizer, stop_words) / MultinomialNB(alpha=0.5) ,LogisticRegression(), SVC(kernel='linear')¶"
   ]
  },
  {
   "cell_type": "code",
   "execution_count": 66,
   "metadata": {
    "collapsed": false
   },
   "outputs": [
    {
     "data": {
      "text/plain": [
       "Pipeline(steps=[('vect', TfidfVectorizer(analyzer=u'word', binary=False, decode_error=u'strict',\n",
       "        dtype=<type 'numpy.int64'>, encoding=u'utf-8', input=u'content',\n",
       "        lowercase=True, max_df=1.0, max_features=None, min_df=1,\n",
       "        ngram_range=(1, 1), norm=u'l2', preprocessor=None, smooth_idf=True...,\n",
       "  max_iter=-1, probability=False, random_state=None, shrinking=True,\n",
       "  tol=0.001, verbose=False))])"
      ]
     },
     "execution_count": 66,
     "metadata": {},
     "output_type": "execute_result"
    }
   ],
   "source": [
    "# TfidfVectorizer(tokenizer, stop_words), MultinomialNB(alpha=0.5)\n",
    "clf_6 = Pipeline([\n",
    "            ('vect', TfidfVectorizer(tokenizer=tokenize_pos, stop_words=get_stop_words())), \n",
    "            ('clf', MultinomialNB(alpha=0.5))])\n",
    "clf_6.fit(X_train, y_train)\n",
    "\n",
    "# TfidfVectorizer(tokenizer, stop_words), LogisticRegression()\n",
    "clf_7 = Pipeline([('vect', TfidfVectorizer(tokenizer=tokenize_pos, stop_words=get_stop_words())),\n",
    "               ('clf', LogisticRegression())])\n",
    "clf_7.fit(X_train, y_train)\n",
    "\n",
    "# TfidfVectorizer(tokenizer, stop_words), SVC(kernel='linear')\n",
    "clf_8 = Pipeline([('vect', TfidfVectorizer(tokenizer=tokenize_pos, stop_words=get_stop_words())),\n",
    "               ('clf', SVC(kernel='linear'))])\n",
    "clf_8.fit(X_train, y_train)"
   ]
  },
  {
   "cell_type": "code",
   "execution_count": 67,
   "metadata": {
    "collapsed": false
   },
   "outputs": [
    {
     "name": "stdout",
     "output_type": "stream",
     "text": [
      "clf_3 Model ------------------------------------------------------------\n",
      "             precision    recall  f1-score   support\n",
      "\n",
      "          0     0.7821    0.8553    0.8171       235\n",
      "          1     0.5652    0.5909    0.5778        22\n",
      "          2     0.8909    0.9074    0.8991        54\n",
      "          3     0.9286    0.8000    0.8595       130\n",
      "          4     0.9399    0.9399    0.9399       183\n",
      "          5     0.9325    0.9699    0.9508       299\n",
      "          6     0.8793    0.8420    0.8602       424\n",
      "\n",
      "avg / total     0.8825    0.8805    0.8805      1347\n",
      "\n",
      "clf_4 Model ------------------------------------------------------------\n",
      "             precision    recall  f1-score   support\n",
      "\n",
      "          0     0.8789    0.8340    0.8559       235\n",
      "          1     0.5909    0.5909    0.5909        22\n",
      "          2     0.9200    0.8519    0.8846        54\n",
      "          3     0.8540    0.9000    0.8764       130\n",
      "          4     0.9778    0.9617    0.9697       183\n",
      "          5     0.9510    0.9732    0.9620       299\n",
      "          6     0.8788    0.8892    0.8839       424\n",
      "\n",
      "avg / total     0.9028    0.9027    0.9025      1347\n",
      "\n",
      "clf_5 Model ------------------------------------------------------------\n",
      "             precision    recall  f1-score   support\n",
      "\n",
      "          0     0.8834    0.8383    0.8603       235\n",
      "          1     0.5806    0.8182    0.6792        22\n",
      "          2     0.9216    0.8704    0.8952        54\n",
      "          3     0.8692    0.8692    0.8692       130\n",
      "          4     0.9722    0.9563    0.9642       183\n",
      "          5     0.9416    0.9699    0.9555       299\n",
      "          6     0.8797    0.8797    0.8797       424\n",
      "\n",
      "avg / total     0.9024    0.9005    0.9010      1347\n",
      "\n",
      "clf_6 Model ------------------------------------------------------------\n",
      "             precision    recall  f1-score   support\n",
      "\n",
      "          0     0.8408    0.7191    0.7752       235\n",
      "          1     1.0000    0.1818    0.3077        22\n",
      "          2     0.9512    0.7222    0.8211        54\n",
      "          3     0.9278    0.6923    0.7930       130\n",
      "          4     0.9679    0.8251    0.8909       183\n",
      "          5     0.9111    0.9599    0.9349       299\n",
      "          6     0.7317    0.9198    0.8150       424\n",
      "\n",
      "avg / total     0.8548    0.8389    0.8348      1347\n",
      "\n",
      "clf_7 Model ------------------------------------------------------------\n",
      "             precision    recall  f1-score   support\n",
      "\n",
      "          0     0.8711    0.8340    0.8522       235\n",
      "          1     0.5556    0.4545    0.5000        22\n",
      "          2     0.8980    0.8148    0.8544        54\n",
      "          3     0.9200    0.8846    0.9020       130\n",
      "          4     0.9777    0.9563    0.9669       183\n",
      "          5     0.9482    0.9799    0.9638       299\n",
      "          6     0.8552    0.8915    0.8730       424\n",
      "\n",
      "avg / total     0.8983    0.8990    0.8982      1347\n",
      "\n",
      "clf_8 Model ------------------------------------------------------------\n",
      "             precision    recall  f1-score   support\n",
      "\n",
      "          0     0.9005    0.8468    0.8728       235\n",
      "          1     0.5769    0.6818    0.6250        22\n",
      "          2     0.9074    0.9074    0.9074        54\n",
      "          3     0.9062    0.8923    0.8992       130\n",
      "          4     0.9779    0.9672    0.9725       183\n",
      "          5     0.9389    0.9766    0.9574       299\n",
      "          6     0.8826    0.8868    0.8847       424\n",
      "\n",
      "avg / total     0.9095    0.9087    0.9088      1347\n",
      "\n"
     ]
    }
   ],
   "source": [
    "# classification_report\n",
    "print \"clf_3 Model\",\"-\"*60\n",
    "print classification_report(y_test, clf_3.predict(X_test), digits=4)\n",
    "print \"clf_4 Model\",\"-\"*60\n",
    "print classification_report(y_test, clf_4.predict(X_test), digits=4)\n",
    "print \"clf_5 Model\",\"-\"*60\n",
    "print classification_report(y_test, clf_5.predict(X_test), digits=4)\n",
    "print \"clf_6 Model\",\"-\"*60\n",
    "print classification_report(y_test, clf_6.predict(X_test), digits=4)\n",
    "print \"clf_7 Model\",\"-\"*60\n",
    "print classification_report(y_test, clf_7.predict(X_test), digits=4)\n",
    "print \"clf_8 Model\",\"-\"*60\n",
    "print classification_report(y_test, clf_8.predict(X_test), digits=4)"
   ]
  },
  {
   "cell_type": "markdown",
   "metadata": {},
   "source": [
    "### 6. Accuracy"
   ]
  },
  {
   "cell_type": "code",
   "execution_count": 68,
   "metadata": {
    "collapsed": false
   },
   "outputs": [
    {
     "name": "stdout",
     "output_type": "stream",
     "text": [
      "clf_3 :  0.880475129918\n",
      "clf_4 :  0.90274684484\n",
      "clf_5 :  0.900519673348\n",
      "clf_6 :  0.838901262064\n",
      "clf_7 :  0.899034892353\n",
      "clf_8 :  0.90868596882\n"
     ]
    }
   ],
   "source": [
    "print \"clf_3 : \", accuracy_score(y_test, clf_3.predict(X_test))\n",
    "print \"clf_4 : \", accuracy_score(y_test, clf_4.predict(X_test))\n",
    "print \"clf_5 : \", accuracy_score(y_test, clf_5.predict(X_test))\n",
    "print \"clf_6 : \", accuracy_score(y_test, clf_6.predict(X_test))\n",
    "print \"clf_7 : \", accuracy_score(y_test, clf_7.predict(X_test))\n",
    "print \"clf_8 : \", accuracy_score(y_test, clf_8.predict(X_test))"
   ]
  },
  {
   "cell_type": "markdown",
   "metadata": {
    "collapsed": true
   },
   "source": [
    "### Word2Vec"
   ]
  },
  {
   "cell_type": "code",
   "execution_count": 69,
   "metadata": {
    "collapsed": false
   },
   "outputs": [],
   "source": [
    "word = pd.read_csv('./Resource/word2Vec.csv') # 데이터 읽기"
   ]
  },
  {
   "cell_type": "code",
   "execution_count": 70,
   "metadata": {
    "collapsed": true
   },
   "outputs": [],
   "source": [
    "y = call['디렉토리'] # target\n",
    "X = call['질문']    # feature"
   ]
  },
  {
   "cell_type": "code",
   "execution_count": 71,
   "metadata": {
    "collapsed": true
   },
   "outputs": [],
   "source": [
    "Nouns = [] # 명사추출\n",
    "\n",
    "for x in X:\n",
    "    z = x.decode(\"utf-8\")\n",
    "    Nouns.append(twitter.nouns(z))"
   ]
  },
  {
   "cell_type": "code",
   "execution_count": 72,
   "metadata": {
    "collapsed": true
   },
   "outputs": [],
   "source": [
    "# 명사 corpus\n",
    "corpus = []\n",
    "for i in range(len(Nouns)):\n",
    "    corpus += Nouns[i]"
   ]
  },
  {
   "cell_type": "code",
   "execution_count": 73,
   "metadata": {
    "collapsed": true
   },
   "outputs": [],
   "source": [
    "train_docs = [row for row in corpus]\n",
    "sentences = [tokenize_pos(d) for d in train_docs]"
   ]
  },
  {
   "cell_type": "code",
   "execution_count": 74,
   "metadata": {
    "collapsed": false
   },
   "outputs": [
    {
     "name": "stdout",
     "output_type": "stream",
     "text": [
      "[[가족/Noun],\n",
      " [관계/Noun],\n",
      " [증명서/Noun],\n",
      " [차/Noun],\n",
      " [상위/Noun],\n",
      " [계층/Noun],\n",
      " [증명/Noun],\n",
      " [궁금/Noun],\n",
      " [주민등록/Noun],\n",
      " [등본/Noun]]\n"
     ]
    }
   ],
   "source": [
    "pprint (sentences[:10])"
   ]
  },
  {
   "cell_type": "code",
   "execution_count": 75,
   "metadata": {
    "collapsed": false
   },
   "outputs": [
    {
     "name": "stderr",
     "output_type": "stream",
     "text": [
      "/usr/local/lib/python2.7/site-packages/gensim/utils.py:1015: UserWarning: Pattern library is not installed, lemmatization won't be available.\n",
      "  warnings.warn(\"Pattern library is not installed, lemmatization won't be available.\")\n"
     ]
    }
   ],
   "source": [
    "from gensim.models import word2vec\n",
    "model = word2vec.Word2Vec(sentences)\n",
    "model.init_sims(replace=True)"
   ]
  },
  {
   "cell_type": "code",
   "execution_count": 76,
   "metadata": {
    "collapsed": false
   },
   "outputs": [
    {
     "data": {
      "text/plain": [
       "0.13212303855449725"
      ]
     },
     "execution_count": 76,
     "metadata": {},
     "output_type": "execute_result"
    }
   ],
   "source": [
    "model.similarity(*tokenize_pos(u'가족 증명'))"
   ]
  },
  {
   "cell_type": "code",
   "execution_count": 77,
   "metadata": {
    "collapsed": false
   },
   "outputs": [
    {
     "data": {
      "text/plain": [
       "0.027177782470165942"
      ]
     },
     "execution_count": 77,
     "metadata": {},
     "output_type": "execute_result"
    }
   ],
   "source": [
    "model.similarity(*tokenize_pos(u'발급 본인'))"
   ]
  },
  {
   "cell_type": "code",
   "execution_count": 78,
   "metadata": {
    "collapsed": false
   },
   "outputs": [
    {
     "name": "stdout",
     "output_type": "stream",
     "text": [
      "[(신고/Noun, 0.3305814266204834)]\n"
     ]
    }
   ],
   "source": [
    "pprint(model.most_similar(positive=tokenize_pos(u'발급 증명'), negative=tokenize_pos(u'주민등록'), topn=1))"
   ]
  },
  {
   "cell_type": "code",
   "execution_count": 79,
   "metadata": {
    "collapsed": false
   },
   "outputs": [
    {
     "name": "stdout",
     "output_type": "stream",
     "text": [
      "[(임산부/Noun, 0.31412220001220703),\n",
      " (일제/Noun, 0.2745574712753296),\n",
      " (주민등록/Noun, 0.2189093828201294),\n",
      " (고등학생/Noun, 0.21222233772277832),\n",
      " (환승/Noun, 0.2110823094844818),\n",
      " (성병/Noun, 0.20770186185836792),\n",
      " (필요/Noun, 0.20600542426109314),\n",
      " (이용/Noun, 0.20419175922870636),\n",
      " (무인/Noun, 0.20343142747879028),\n",
      " (영업/Noun, 0.1999349296092987)]\n"
     ]
    }
   ],
   "source": [
    "pprint (model.most_similar(tokenize_pos(u'미성년'), topn=10))"
   ]
  },
  {
   "cell_type": "code",
   "execution_count": null,
   "metadata": {
    "collapsed": true
   },
   "outputs": [],
   "source": []
  }
 ],
 "metadata": {
  "kernelspec": {
   "display_name": "Python 2",
   "language": "python",
   "name": "python2"
  },
  "language_info": {
   "codemirror_mode": {
    "name": "ipython",
    "version": 2
   },
   "file_extension": ".py",
   "mimetype": "text/x-python",
   "name": "python",
   "nbconvert_exporter": "python",
   "pygments_lexer": "ipython2",
   "version": "2.7.12"
  }
 },
 "nbformat": 4,
 "nbformat_minor": 1
}
